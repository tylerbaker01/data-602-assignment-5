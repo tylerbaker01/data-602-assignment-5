{
 "cells": [
  {
   "cell_type": "markdown",
   "id": "439cbfdf",
   "metadata": {},
   "source": [
    "Tyler Baker\n",
    "Assignment #5"
   ]
  },
  {
   "cell_type": "markdown",
   "id": "33e78996",
   "metadata": {},
   "source": [
    "1.) Create a 1D array of numbers from 0 to 9 called arr.. Desired output:\n",
    "#> array([0, 1, 2, 3, 4, 5, 6, 7, 8, 9])\n"
   ]
  },
  {
   "cell_type": "code",
   "execution_count": 2,
   "id": "4a1eaf9a",
   "metadata": {},
   "outputs": [],
   "source": [
    "import numpy as np"
   ]
  },
  {
   "cell_type": "code",
   "execution_count": 2,
   "id": "a244b6d8",
   "metadata": {},
   "outputs": [],
   "source": [
    "arr = np.array([0,1,2,3,4,5,6,7,8,9])"
   ]
  },
  {
   "cell_type": "markdown",
   "id": "e0ae5393",
   "metadata": {},
   "source": [
    "2.) From arr, extract all odd numbers"
   ]
  },
  {
   "cell_type": "code",
   "execution_count": 4,
   "id": "0d2f916c",
   "metadata": {},
   "outputs": [
    {
     "name": "stdout",
     "output_type": "stream",
     "text": [
      "[1 3 5 7 9]\n"
     ]
    }
   ],
   "source": [
    "odds = arr[arr%2==1]\n",
    "print(odds)"
   ]
  },
  {
   "cell_type": "markdown",
   "id": "1f4e56c8",
   "metadata": {},
   "source": [
    "3.) Replace all even numbers in arr with -1.\n"
   ]
  },
  {
   "cell_type": "code",
   "execution_count": 6,
   "id": "757eab3c",
   "metadata": {},
   "outputs": [
    {
     "name": "stdout",
     "output_type": "stream",
     "text": [
      "[-1  1 -1  3 -1  5 -1  7 -1  9]\n"
     ]
    }
   ],
   "source": [
    "new_array = np.where(arr%2==0,-1,arr)\n",
    "print(new_array)"
   ]
  },
  {
   "cell_type": "markdown",
   "id": "90ff4c0b",
   "metadata": {},
   "source": [
    "4.) Convert the following 1D array to a 2D array with 2 rows.\n",
    "Input: np.arange(10)\n",
    "#> array([0, 1, 2, 3, 4, 5, 6, 7, 8, 9])\n",
    "Desired Output:\n",
    "array([[0, 1, 2, 3, 4],\n",
    "[5, 6, 7, 8, 9]])\n"
   ]
  },
  {
   "cell_type": "code",
   "execution_count": 7,
   "id": "14ceb339",
   "metadata": {},
   "outputs": [
    {
     "name": "stdout",
     "output_type": "stream",
     "text": [
      "[[0 1 2 3 4]\n",
      " [5 6 7 8 9]]\n"
     ]
    }
   ],
   "source": [
    "new_mat = arr.reshape(2,5)\n",
    "print(new_mat)"
   ]
  },
  {
   "cell_type": "markdown",
   "id": "9f616245",
   "metadata": {},
   "source": [
    "5.) Create a single dimension array, array_1d, of size n containing integers 0 to n-1.\n",
    "Reshape the array. The reshaped array, array_reshaped, should be n/3 columns\n",
    "and 3 rows.\n"
   ]
  },
  {
   "cell_type": "code",
   "execution_count": 6,
   "id": "80ec823a",
   "metadata": {},
   "outputs": [
    {
     "name": "stdout",
     "output_type": "stream",
     "text": [
      "[[0 1 2 3]\n",
      " [4 5 6 7]\n",
      " [8 9 0 0]]\n"
     ]
    }
   ],
   "source": [
    "def n_minus_one_matrix(n):\n",
    "    if n%3 ==2:\n",
    "        arr = np.array([i for i in range(n)])\n",
    "        arr = np.append(arr, ([0]))\n",
    "        col_size = int((n+1)/3)\n",
    "        mat = arr.reshape(3, col_size)\n",
    "        print(mat)\n",
    "    elif n%3 == 1:\n",
    "        arr = np.array([i for i in range(n)])\n",
    "        arr = np.append(arr, ([0,0]))\n",
    "        col_size = int((n+2)/3)\n",
    "        mat = arr.reshape(3, col_size)\n",
    "        print(mat)\n",
    "    else:\n",
    "        arr = np.array([i for i in range(n)])\n",
    "        mat = arr.reshape(3, (n/3))\n",
    "        print(mat)\n",
    "                          \n",
    "                          \n",
    "\n",
    "n_minus_one_matrix(10)"
   ]
  },
  {
   "cell_type": "markdown",
   "id": "09466271",
   "metadata": {},
   "source": [
    "6.) Create a numpy identity matrix of size n.\n"
   ]
  },
  {
   "cell_type": "code",
   "execution_count": 17,
   "id": "4fa7c295",
   "metadata": {},
   "outputs": [
    {
     "name": "stdout",
     "output_type": "stream",
     "text": [
      "[[1 0 0 0]\n",
      " [0 1 0 0]\n",
      " [0 0 1 0]\n",
      " [0 0 0 1]]\n"
     ]
    }
   ],
   "source": [
    "def identity_mat(n):\n",
    "    number_of_zeros = n*n\n",
    "    zero_list = [0]* number_of_zeros\n",
    "    zero_array = np.array([zero_list])\n",
    "    mat = zero_array.reshape(n,n)\n",
    "    np.fill_diagonal(mat, 1)\n",
    "    print(mat)\n",
    "    \n",
    "identity_mat(4)"
   ]
  },
  {
   "cell_type": "markdown",
   "id": "81419b31",
   "metadata": {},
   "source": [
    "7.) Create an array filled with zeroes of size n x n (n rows, n columns)."
   ]
  },
  {
   "cell_type": "code",
   "execution_count": 19,
   "id": "ddaa87b9",
   "metadata": {},
   "outputs": [
    {
     "name": "stdout",
     "output_type": "stream",
     "text": [
      "[[0 0]\n",
      " [0 0]]\n"
     ]
    }
   ],
   "source": [
    "def zero_mat(n):\n",
    "        number_of_zeros = n*n\n",
    "        zero_list = [0]* number_of_zeros\n",
    "        zero_array = np.array([zero_list])\n",
    "        mat = zero_array.reshape(n,n)\n",
    "        print(mat)\n",
    "zero_mat(2)"
   ]
  },
  {
   "cell_type": "code",
   "execution_count": null,
   "id": "4757e130",
   "metadata": {},
   "outputs": [],
   "source": []
  }
 ],
 "metadata": {
  "kernelspec": {
   "display_name": "Python 3 (ipykernel)",
   "language": "python",
   "name": "python3"
  },
  "language_info": {
   "codemirror_mode": {
    "name": "ipython",
    "version": 3
   },
   "file_extension": ".py",
   "mimetype": "text/x-python",
   "name": "python",
   "nbconvert_exporter": "python",
   "pygments_lexer": "ipython3",
   "version": "3.9.7"
  }
 },
 "nbformat": 4,
 "nbformat_minor": 5
}
